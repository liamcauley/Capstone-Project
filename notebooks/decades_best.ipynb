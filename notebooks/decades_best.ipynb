{
 "cells": [
  {
   "cell_type": "code",
   "execution_count": 48,
   "metadata": {},
   "outputs": [],
   "source": [
    "import pandas as pd"
   ]
  },
  {
   "cell_type": "code",
   "execution_count": 49,
   "metadata": {},
   "outputs": [
    {
     "data": {
      "text/plain": [
       "542"
      ]
     },
     "execution_count": 49,
     "metadata": {},
     "output_type": "execute_result"
    }
   ],
   "source": [
    "df = pd.read_csv('../data/full_merge_cleaned.csv')\n",
    "len(df)"
   ]
  },
  {
   "cell_type": "code",
   "execution_count": 50,
   "metadata": {},
   "outputs": [],
   "source": [
    "df = df[~df['artist'].str.contains('With|with|Duet|Feat.|feat.|and|And')].reset_index()"
   ]
  },
  {
   "cell_type": "code",
   "execution_count": 51,
   "metadata": {},
   "outputs": [],
   "source": [
    "df_80s = df.loc[(df.date >= 1980) & (df.date <= 1989)]\n",
    "df_90s = df.loc[(df.date >= 1990) & (df.date <= 1999)]\n",
    "df_2000s = df.loc[(df.date >= 2000) & (df.date <= 2009)]\n",
    "df_2010s = df.loc[(df.date >= 2010) & (df.date <= 2019)]"
   ]
  },
  {
   "cell_type": "code",
   "execution_count": 52,
   "metadata": {},
   "outputs": [],
   "source": [
    "df_80s = df_80s.sort_values('weeks-on-board', ascending = False).reset_index()\n",
    "df_90s = df_90s.sort_values('weeks-on-board', ascending = False).reset_index()\n",
    "df_2000s = df_2000s.sort_values('weeks-on-board', ascending = False).reset_index()\n",
    "df_2010s = df_2010s.sort_values('weeks-on-board', ascending = False).reset_index()"
   ]
  },
  {
   "cell_type": "code",
   "execution_count": 54,
   "metadata": {},
   "outputs": [],
   "source": [
    "df_80s = df_80s.head(20)\n",
    "df_90s = df_90s.head(20)\n",
    "df_2000s = df_2000s.head(20)\n",
    "df_2010s = df_2010s.head(20)"
   ]
  },
  {
   "cell_type": "code",
   "execution_count": 64,
   "metadata": {},
   "outputs": [],
   "source": [
    "df_80s = df_80s.sort_values('peak-rank', ascending = True).drop(columns = ['level_0', 'index', 'Unnamed: 0']).head(10).reset_index()\n",
    "df_90s = df_90s.sort_values('peak-rank', ascending = True).drop(columns = ['level_0', 'index', 'Unnamed: 0']).head(10).reset_index()\n",
    "df_2000s = df_2000s.sort_values('peak-rank', ascending = True).drop(columns = ['level_0', 'index', 'Unnamed: 0']).head(10).reset_index()\n",
    "df_2010s = df_2010s.sort_values('peak-rank', ascending = True).drop(columns = ['level_0', 'index', 'Unnamed: 0']).head(10).reset_index()"
   ]
  },
  {
   "cell_type": "code",
   "execution_count": 66,
   "metadata": {},
   "outputs": [],
   "source": [
    "df_80s.to_csv('../data/80s_top_10.csv')\n",
    "df_90s.to_csv('../data/90s_top_10.csv')\n",
    "df_2000s.to_csv('../data/2000s_top_10.csv')\n",
    "df_2010s.to_csv('../data/2010s_top_10.csv')"
   ]
  }
 ],
 "metadata": {
  "kernelspec": {
   "display_name": "base",
   "language": "python",
   "name": "python3"
  },
  "language_info": {
   "codemirror_mode": {
    "name": "ipython",
    "version": 3
   },
   "file_extension": ".py",
   "mimetype": "text/x-python",
   "name": "python",
   "nbconvert_exporter": "python",
   "pygments_lexer": "ipython3",
   "version": "3.11.5"
  }
 },
 "nbformat": 4,
 "nbformat_minor": 2
}
