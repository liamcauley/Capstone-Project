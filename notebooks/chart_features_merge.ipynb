{
 "cells": [
  {
   "cell_type": "code",
   "execution_count": 1,
   "metadata": {},
   "outputs": [],
   "source": [
    "import pandas as pd"
   ]
  },
  {
   "cell_type": "code",
   "execution_count": 21,
   "metadata": {},
   "outputs": [],
   "source": [
    "chart_80s = pd.read_csv('../data/80s_chart_id.csv')\n",
    "af_80s = pd.read_csv('../data/80s_af.csv')\n",
    "chart_90s = pd.read_csv('../data/90s_chart_id.csv')\n",
    "af_90s = pd.read_csv('../data/90s_af.csv')\n",
    "chart_2000s_2010s = pd.read_csv('../data/2000_2010s_chart_id.csv')\n",
    "af_2000s_2010s = pd.read_csv('../data/2000_2010_af.csv')"
   ]
  },
  {
   "cell_type": "code",
   "execution_count": 22,
   "metadata": {},
   "outputs": [],
   "source": [
    "chart_audio_80s = pd.merge(chart_80s, af_80s, how='inner', left_on='track_id', right_on='id')\n",
    "chart_audio_90s = pd.merge(chart_90s, af_90s, how='inner', left_on='track_id', right_on='id')\n",
    "chart_audio_2000s_2010s = pd.merge(chart_2000s_2010s, af_2000s_2010s, how='inner', left_on='track_id', right_on='id')"
   ]
  },
  {
   "cell_type": "code",
   "execution_count": 23,
   "metadata": {},
   "outputs": [],
   "source": [
    "charts_combined = pd.concat([chart_audio_80s, chart_audio_90s, chart_audio_2000s_2010s], ignore_index=True)\n"
   ]
  },
  {
   "cell_type": "code",
   "execution_count": 26,
   "metadata": {},
   "outputs": [],
   "source": [
    "charts_combined = charts_combined.sort_values('release_year', ascending = False)"
   ]
  },
  {
   "cell_type": "code",
   "execution_count": 27,
   "metadata": {},
   "outputs": [],
   "source": [
    "charts_combined.to_csv('../data/full_chart_af_merge.csv')"
   ]
  }
 ],
 "metadata": {
  "kernelspec": {
   "display_name": "base",
   "language": "python",
   "name": "python3"
  },
  "language_info": {
   "codemirror_mode": {
    "name": "ipython",
    "version": 3
   },
   "file_extension": ".py",
   "mimetype": "text/x-python",
   "name": "python",
   "nbconvert_exporter": "python",
   "pygments_lexer": "ipython3",
   "version": "3.11.5"
  }
 },
 "nbformat": 4,
 "nbformat_minor": 2
}
