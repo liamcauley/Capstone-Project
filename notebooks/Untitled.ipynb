{
 "cells": [
  {
   "cell_type": "code",
   "execution_count": 1,
   "id": "4da21fb8",
   "metadata": {},
   "outputs": [],
   "source": [
    "import pandas as pd"
   ]
  },
  {
   "cell_type": "code",
   "execution_count": 2,
   "id": "76c947c6",
   "metadata": {},
   "outputs": [],
   "source": [
    "top_songs = pd.read_csv('../data/top_songs.csv')"
   ]
  },
  {
   "cell_type": "code",
   "execution_count": 3,
   "id": "704d1b4b",
   "metadata": {},
   "outputs": [],
   "source": [
    "top_songs['Track URI'] = top_songs['Track URI'].str[14:]"
   ]
  },
  {
   "cell_type": "code",
   "execution_count": 4,
   "id": "91bc5e8b",
   "metadata": {},
   "outputs": [],
   "source": [
    "columns_to_drop = ['Artist URI(s)', 'Album URI', 'Album Artist Name(s)', 'Album Image URL', 'Album Genres', 'Copyrights',]"
   ]
  },
  {
   "cell_type": "code",
   "execution_count": 5,
   "id": "5d10f29a",
   "metadata": {},
   "outputs": [],
   "source": [
    "top_songs = top_songs[['Artist Name(s)', 'Track Name','Track URI', 'Album Release Date']]"
   ]
  },
  {
   "cell_type": "code",
   "execution_count": 7,
   "id": "32685be3",
   "metadata": {},
   "outputs": [],
   "source": [
    "top_songs['Album Release Date'] = top_songs['Album Release Date'].str[:4]"
   ]
  },
  {
   "cell_type": "code",
   "execution_count": 8,
   "id": "53758252",
   "metadata": {},
   "outputs": [],
   "source": [
    "song_rename = {'Artist Name(s)':'artist_name', 'Track Name':'song_name', 'Track URI':'id', 'Album Release Date':'year'}"
   ]
  },
  {
   "cell_type": "code",
   "execution_count": 9,
   "id": "b2029497",
   "metadata": {},
   "outputs": [],
   "source": [
    "top_songs.rename(columns=song_rename, inplace=True)"
   ]
  },
  {
   "cell_type": "code",
   "execution_count": 10,
   "id": "0761117b",
   "metadata": {},
   "outputs": [],
   "source": [
    "top_songs = top_songs.sort_values(by='year', ascending = False).reset_index()"
   ]
  },
  {
   "cell_type": "code",
   "execution_count": 11,
   "id": "cb5891df",
   "metadata": {},
   "outputs": [
    {
     "data": {
      "text/html": [
       "<div>\n",
       "<style scoped>\n",
       "    .dataframe tbody tr th:only-of-type {\n",
       "        vertical-align: middle;\n",
       "    }\n",
       "\n",
       "    .dataframe tbody tr th {\n",
       "        vertical-align: top;\n",
       "    }\n",
       "\n",
       "    .dataframe thead th {\n",
       "        text-align: right;\n",
       "    }\n",
       "</style>\n",
       "<table border=\"1\" class=\"dataframe\">\n",
       "  <thead>\n",
       "    <tr style=\"text-align: right;\">\n",
       "      <th></th>\n",
       "      <th>index</th>\n",
       "      <th>artist_name</th>\n",
       "      <th>song_name</th>\n",
       "      <th>id</th>\n",
       "      <th>year</th>\n",
       "    </tr>\n",
       "  </thead>\n",
       "  <tbody>\n",
       "    <tr>\n",
       "      <th>0</th>\n",
       "      <td>9998</td>\n",
       "      <td>Kylie Minogue</td>\n",
       "      <td>Padam Padam</td>\n",
       "      <td>3iKuIfvoU50eww6EVzNqHo</td>\n",
       "      <td>2023</td>\n",
       "    </tr>\n",
       "    <tr>\n",
       "      <th>1</th>\n",
       "      <td>7980</td>\n",
       "      <td>Ed Sheeran</td>\n",
       "      <td>Eyes Closed</td>\n",
       "      <td>07bsRv0pcpbG4zJeLsUs1p</td>\n",
       "      <td>2023</td>\n",
       "    </tr>\n",
       "    <tr>\n",
       "      <th>2</th>\n",
       "      <td>8873</td>\n",
       "      <td>Macklemore, Collett</td>\n",
       "      <td>NO BAD DAYS (feat. Collett)</td>\n",
       "      <td>5C8ySsx3AT121g24uYR823</td>\n",
       "      <td>2023</td>\n",
       "    </tr>\n",
       "    <tr>\n",
       "      <th>3</th>\n",
       "      <td>1864</td>\n",
       "      <td>Miley Cyrus</td>\n",
       "      <td>Flowers</td>\n",
       "      <td>4DHcnVTT87F0zZhRPYmZ3B</td>\n",
       "      <td>2023</td>\n",
       "    </tr>\n",
       "    <tr>\n",
       "      <th>4</th>\n",
       "      <td>7804</td>\n",
       "      <td>Lewis Capaldi</td>\n",
       "      <td>Wish You The Best</td>\n",
       "      <td>3W5KHP0Yr56ejVDns9vci3</td>\n",
       "      <td>2023</td>\n",
       "    </tr>\n",
       "    <tr>\n",
       "      <th>...</th>\n",
       "      <td>...</td>\n",
       "      <td>...</td>\n",
       "      <td>...</td>\n",
       "      <td>...</td>\n",
       "      <td>...</td>\n",
       "    </tr>\n",
       "    <tr>\n",
       "      <th>9994</th>\n",
       "      <td>6241</td>\n",
       "      <td>Elvis Presley</td>\n",
       "      <td>Jailhouse Rock</td>\n",
       "      <td>4gphxUgq0JSFv2BCLhNDiE</td>\n",
       "      <td>1958</td>\n",
       "    </tr>\n",
       "    <tr>\n",
       "      <th>9995</th>\n",
       "      <td>7007</td>\n",
       "      <td>Elvis Presley</td>\n",
       "      <td>Blue Suede Shoes</td>\n",
       "      <td>47gmoUrZV3w20JAnQOZMcO</td>\n",
       "      <td>1956</td>\n",
       "    </tr>\n",
       "    <tr>\n",
       "      <th>9996</th>\n",
       "      <td>1190</td>\n",
       "      <td>NaN</td>\n",
       "      <td>NaN</td>\n",
       "      <td>4FtEKK21hvAqtn3LRT6tW2</td>\n",
       "      <td>0000</td>\n",
       "    </tr>\n",
       "    <tr>\n",
       "      <th>9997</th>\n",
       "      <td>2714</td>\n",
       "      <td>The Beatles</td>\n",
       "      <td>You've Got To Hide Your Love Away</td>\n",
       "      <td>The+Beatles:1962-1966:You%27ve+Got+To+Hide+You...</td>\n",
       "      <td>NaN</td>\n",
       "    </tr>\n",
       "    <tr>\n",
       "      <th>9998</th>\n",
       "      <td>5061</td>\n",
       "      <td>Koo De Tah</td>\n",
       "      <td>Too Young For Promises</td>\n",
       "      <td>Koo+De+Tah:Too+Young+For+Promises:Too+Young+Fo...</td>\n",
       "      <td>NaN</td>\n",
       "    </tr>\n",
       "  </tbody>\n",
       "</table>\n",
       "<p>9999 rows × 5 columns</p>\n",
       "</div>"
      ],
      "text/plain": [
       "      index          artist_name                          song_name  \\\n",
       "0      9998        Kylie Minogue                        Padam Padam   \n",
       "1      7980           Ed Sheeran                        Eyes Closed   \n",
       "2      8873  Macklemore, Collett        NO BAD DAYS (feat. Collett)   \n",
       "3      1864          Miley Cyrus                            Flowers   \n",
       "4      7804        Lewis Capaldi                  Wish You The Best   \n",
       "...     ...                  ...                                ...   \n",
       "9994   6241        Elvis Presley                     Jailhouse Rock   \n",
       "9995   7007        Elvis Presley                   Blue Suede Shoes   \n",
       "9996   1190                  NaN                                NaN   \n",
       "9997   2714          The Beatles  You've Got To Hide Your Love Away   \n",
       "9998   5061           Koo De Tah             Too Young For Promises   \n",
       "\n",
       "                                                     id  year  \n",
       "0                                3iKuIfvoU50eww6EVzNqHo  2023  \n",
       "1                                07bsRv0pcpbG4zJeLsUs1p  2023  \n",
       "2                                5C8ySsx3AT121g24uYR823  2023  \n",
       "3                                4DHcnVTT87F0zZhRPYmZ3B  2023  \n",
       "4                                3W5KHP0Yr56ejVDns9vci3  2023  \n",
       "...                                                 ...   ...  \n",
       "9994                             4gphxUgq0JSFv2BCLhNDiE  1958  \n",
       "9995                             47gmoUrZV3w20JAnQOZMcO  1956  \n",
       "9996                             4FtEKK21hvAqtn3LRT6tW2  0000  \n",
       "9997  The+Beatles:1962-1966:You%27ve+Got+To+Hide+You...   NaN  \n",
       "9998  Koo+De+Tah:Too+Young+For+Promises:Too+Young+Fo...   NaN  \n",
       "\n",
       "[9999 rows x 5 columns]"
      ]
     },
     "execution_count": 11,
     "metadata": {},
     "output_type": "execute_result"
    }
   ],
   "source": [
    "top_songs"
   ]
  },
  {
   "cell_type": "code",
   "execution_count": 12,
   "id": "1fd7fd15",
   "metadata": {},
   "outputs": [],
   "source": [
    "top_songs.drop(top_songs.index[-3:], inplace=True)"
   ]
  },
  {
   "cell_type": "code",
   "execution_count": 17,
   "id": "8dc11a7a",
   "metadata": {},
   "outputs": [],
   "source": [
    "top_songs['year'] = top_songs.year.astype(int)"
   ]
  },
  {
   "cell_type": "code",
   "execution_count": 22,
   "id": "767addba",
   "metadata": {},
   "outputs": [],
   "source": [
    "top_80s = top_songs.loc[(top_songs.year >= 1980) & (top_songs.year < 1990)]"
   ]
  },
  {
   "cell_type": "code",
   "execution_count": 23,
   "id": "53414b39",
   "metadata": {},
   "outputs": [],
   "source": [
    "top_90s = top_songs.loc[(top_songs.year >= 1990) & (top_songs.year < 2000)]"
   ]
  },
  {
   "cell_type": "code",
   "execution_count": 28,
   "id": "3b3e330e",
   "metadata": {},
   "outputs": [],
   "source": [
    "top_2000s = top_songs.loc[(top_songs.year >= 2000) & (top_songs.year < 2010)]"
   ]
  },
  {
   "cell_type": "code",
   "execution_count": 29,
   "id": "df451db3",
   "metadata": {},
   "outputs": [],
   "source": [
    "top_2010s = top_songs.loc[(top_songs.year >= 2010) & (top_songs.year < 2020)]"
   ]
  },
  {
   "cell_type": "code",
   "execution_count": 25,
   "id": "805b42ab",
   "metadata": {},
   "outputs": [
    {
     "data": {
      "text/plain": [
       "artist_name\n",
       "U2                 13\n",
       "John Mellencamp    12\n",
       "Madonna            10\n",
       "Elton John         10\n",
       "Phil Collins       10\n",
       "                   ..\n",
       "Steve Winwood       1\n",
       "Cinderella          1\n",
       "Exile               1\n",
       "Paul Simon          1\n",
       "Village People      1\n",
       "Name: count, Length: 476, dtype: int64"
      ]
     },
     "execution_count": 25,
     "metadata": {},
     "output_type": "execute_result"
    }
   ],
   "source": [
    "top_80s.artist_name.value_counts()"
   ]
  },
  {
   "cell_type": "code",
   "execution_count": 26,
   "id": "c1335c97",
   "metadata": {},
   "outputs": [
    {
     "data": {
      "text/plain": [
       "artist_name\n",
       "Metallica                    12\n",
       "U2                           11\n",
       "Backstreet Boys              10\n",
       "Céline Dion                  10\n",
       "Spice Girls                   9\n",
       "                             ..\n",
       "Diana Ross & The Supremes     1\n",
       "Strike                        1\n",
       "The Prodigy                   1\n",
       "Ben Folds Five                1\n",
       "Survivor                      1\n",
       "Name: count, Length: 742, dtype: int64"
      ]
     },
     "execution_count": 26,
     "metadata": {},
     "output_type": "execute_result"
    }
   ],
   "source": [
    "top_90s.artist_name.value_counts()"
   ]
  },
  {
   "cell_type": "code",
   "execution_count": 30,
   "id": "03ac3f74",
   "metadata": {},
   "outputs": [
    {
     "data": {
      "text/plain": [
       "artist_name\n",
       "P!nk                      24\n",
       "Madonna                   21\n",
       "Black Eyed Peas           21\n",
       "Eminem                    18\n",
       "Britney Spears            17\n",
       "                          ..\n",
       "East 17                    1\n",
       "Rascal Flatts              1\n",
       "The Chicks                 1\n",
       "Zombie Nation              1\n",
       "Lighter Shade Of Brown     1\n",
       "Name: count, Length: 1223, dtype: int64"
      ]
     },
     "execution_count": 30,
     "metadata": {},
     "output_type": "execute_result"
    }
   ],
   "source": [
    "top_2000s.artist_name.value_counts()"
   ]
  },
  {
   "cell_type": "code",
   "execution_count": 32,
   "id": "c6ff1906",
   "metadata": {},
   "outputs": [
    {
     "data": {
      "text/plain": [
       "artist_name\n",
       "Taylor Swift                                                                                                         35\n",
       "Ed Sheeran                                                                                                           32\n",
       "Bruno Mars                                                                                                           22\n",
       "Imagine Dragons                                                                                                      22\n",
       "One Direction                                                                                                        22\n",
       "                                                                                                                     ..\n",
       "Macklemore & Ryan Lewis, Macklemore, Ryan Lewis, Grandmaster Melle Mel, Grandmaster Caz, Kool Moe Dee, Eric Nally     1\n",
       "Hilltop Hoods, Montaigne, Tom Thum                                                                                    1\n",
       "Drake, Wizkid, Kyla                                                                                                   1\n",
       "Zay Hilfigerrr, Zayion McCall                                                                                         1\n",
       "Flo Rida, David Guetta                                                                                                1\n",
       "Name: count, Length: 1808, dtype: int64"
      ]
     },
     "execution_count": 32,
     "metadata": {},
     "output_type": "execute_result"
    }
   ],
   "source": [
    "top_2010s.artist_name.value_counts()"
   ]
  },
  {
   "cell_type": "code",
   "execution_count": null,
   "id": "25117949",
   "metadata": {},
   "outputs": [],
   "source": []
  }
 ],
 "metadata": {
  "kernelspec": {
   "display_name": "Python 3 (ipykernel)",
   "language": "python",
   "name": "python3"
  },
  "language_info": {
   "codemirror_mode": {
    "name": "ipython",
    "version": 3
   },
   "file_extension": ".py",
   "mimetype": "text/x-python",
   "name": "python",
   "nbconvert_exporter": "python",
   "pygments_lexer": "ipython3",
   "version": "3.11.5"
  }
 },
 "nbformat": 4,
 "nbformat_minor": 5
}
