{
 "cells": [
  {
   "cell_type": "code",
   "execution_count": 10,
   "id": "c1f15d0f",
   "metadata": {},
   "outputs": [],
   "source": [
    "import pandas as pd \n",
    "import requests\n",
    "import json"
   ]
  },
  {
   "cell_type": "code",
   "execution_count": 11,
   "id": "b8f8874f",
   "metadata": {},
   "outputs": [],
   "source": [
    "secret_key_file  = open(\"../keys/secret_key.json\")\n",
    "secret_key_json = json.load(secret_key_file)\n",
    "secret_key = secret_key_json.get(\"secret_key\")\n",
    "secret_key_file.close()\n",
    "\n",
    "def get_token():\n",
    "    url = \"https://accounts.spotify.com/api/token\"\n",
    "    headers = {\n",
    "        \"Authorization\": f\"Basic {secret_key}\",\n",
    "        \"Content-Type\" : \"application/x-www-form-urlencoded\"\n",
    "    }\n",
    "    data = {\n",
    "        \"grant_type\" : \"client_credentials\"\n",
    "    }\n",
    "    response = requests.post(url, data = data, headers = headers)\n",
    "    \n",
    "    return response.json()"
   ]
  },
  {
   "cell_type": "code",
   "execution_count": null,
   "id": "b7fb4639",
   "metadata": {},
   "outputs": [],
   "source": []
  }
 ],
 "metadata": {
  "kernelspec": {
   "display_name": "Python 3 (ipykernel)",
   "language": "python",
   "name": "python3"
  },
  "language_info": {
   "codemirror_mode": {
    "name": "ipython",
    "version": 3
   },
   "file_extension": ".py",
   "mimetype": "text/x-python",
   "name": "python",
   "nbconvert_exporter": "python",
   "pygments_lexer": "ipython3",
   "version": "3.11.5"
  }
 },
 "nbformat": 4,
 "nbformat_minor": 5
}
