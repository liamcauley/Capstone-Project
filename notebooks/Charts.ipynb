{
 "cells": [
  {
   "cell_type": "code",
   "execution_count": 1,
   "id": "b543211a",
   "metadata": {},
   "outputs": [],
   "source": [
    "import pandas as pd"
   ]
  },
  {
   "cell_type": "code",
   "execution_count": 2,
   "id": "ccdd543f",
   "metadata": {},
   "outputs": [],
   "source": [
    "charts = pd.read_csv('../data/charts.csv')"
   ]
  },
  {
   "cell_type": "code",
   "execution_count": 3,
   "id": "b3f778a7",
   "metadata": {},
   "outputs": [],
   "source": [
    "charts = charts.drop_duplicates(subset=['song','artist'])"
   ]
  },
  {
   "cell_type": "code",
   "execution_count": 4,
   "id": "a281f638",
   "metadata": {},
   "outputs": [],
   "source": [
    "charts['date'] = charts.date.str[:4].astype(int)"
   ]
  },
  {
   "cell_type": "code",
   "execution_count": 5,
   "id": "1f634b29",
   "metadata": {},
   "outputs": [
    {
     "data": {
      "text/html": [
       "<div>\n",
       "<style scoped>\n",
       "    .dataframe tbody tr th:only-of-type {\n",
       "        vertical-align: middle;\n",
       "    }\n",
       "\n",
       "    .dataframe tbody tr th {\n",
       "        vertical-align: top;\n",
       "    }\n",
       "\n",
       "    .dataframe thead th {\n",
       "        text-align: right;\n",
       "    }\n",
       "</style>\n",
       "<table border=\"1\" class=\"dataframe\">\n",
       "  <thead>\n",
       "    <tr style=\"text-align: right;\">\n",
       "      <th></th>\n",
       "      <th>date</th>\n",
       "      <th>rank</th>\n",
       "      <th>song</th>\n",
       "      <th>artist</th>\n",
       "      <th>last-week</th>\n",
       "      <th>peak-rank</th>\n",
       "      <th>weeks-on-board</th>\n",
       "    </tr>\n",
       "  </thead>\n",
       "  <tbody>\n",
       "    <tr>\n",
       "      <th>0</th>\n",
       "      <td>2021</td>\n",
       "      <td>1</td>\n",
       "      <td>Easy On Me</td>\n",
       "      <td>Adele</td>\n",
       "      <td>1.0</td>\n",
       "      <td>1</td>\n",
       "      <td>3</td>\n",
       "    </tr>\n",
       "  </tbody>\n",
       "</table>\n",
       "</div>"
      ],
      "text/plain": [
       "   date  rank        song artist  last-week  peak-rank  weeks-on-board\n",
       "0  2021     1  Easy On Me  Adele        1.0          1               3"
      ]
     },
     "execution_count": 5,
     "metadata": {},
     "output_type": "execute_result"
    }
   ],
   "source": [
    "charts.head(1)"
   ]
  },
  {
   "cell_type": "code",
   "execution_count": 6,
   "id": "a8739f45",
   "metadata": {},
   "outputs": [
    {
     "data": {
      "text/plain": [
       "date                int32\n",
       "rank                int64\n",
       "song               object\n",
       "artist             object\n",
       "last-week         float64\n",
       "peak-rank           int64\n",
       "weeks-on-board      int64\n",
       "dtype: object"
      ]
     },
     "execution_count": 6,
     "metadata": {},
     "output_type": "execute_result"
    }
   ],
   "source": [
    "charts.dtypes"
   ]
  },
  {
   "cell_type": "code",
   "execution_count": 7,
   "id": "4b9b3a59",
   "metadata": {},
   "outputs": [],
   "source": [
    "hit_songs = charts.loc[(charts['peak-rank'] == 1)]"
   ]
  },
  {
   "cell_type": "code",
   "execution_count": 10,
   "id": "312a6476",
   "metadata": {},
   "outputs": [],
   "source": [
    "hit_count = hit_songs.artist.value_counts().to_frame().reset_index()"
   ]
  },
  {
   "cell_type": "code",
   "execution_count": 15,
   "id": "d9b3df1e",
   "metadata": {},
   "outputs": [
    {
     "data": {
      "text/plain": [
       "artist    object\n",
       "count      int64\n",
       "dtype: object"
      ]
     },
     "execution_count": 15,
     "metadata": {},
     "output_type": "execute_result"
    }
   ],
   "source": [
    "hit_count.dtypes"
   ]
  },
  {
   "cell_type": "code",
   "execution_count": 16,
   "id": "5581c18e",
   "metadata": {},
   "outputs": [
    {
     "data": {
      "text/html": [
       "<div>\n",
       "<style scoped>\n",
       "    .dataframe tbody tr th:only-of-type {\n",
       "        vertical-align: middle;\n",
       "    }\n",
       "\n",
       "    .dataframe tbody tr th {\n",
       "        vertical-align: top;\n",
       "    }\n",
       "\n",
       "    .dataframe thead th {\n",
       "        text-align: right;\n",
       "    }\n",
       "</style>\n",
       "<table border=\"1\" class=\"dataframe\">\n",
       "  <thead>\n",
       "    <tr style=\"text-align: right;\">\n",
       "      <th></th>\n",
       "      <th>artist</th>\n",
       "      <th>count</th>\n",
       "    </tr>\n",
       "  </thead>\n",
       "  <tbody>\n",
       "    <tr>\n",
       "      <th>166</th>\n",
       "      <td>Styx</td>\n",
       "      <td>1</td>\n",
       "    </tr>\n",
       "    <tr>\n",
       "      <th>167</th>\n",
       "      <td>Harry Chapin</td>\n",
       "      <td>1</td>\n",
       "    </tr>\n",
       "    <tr>\n",
       "      <th>168</th>\n",
       "      <td>Barbra Streisand/Donna Summer</td>\n",
       "      <td>1</td>\n",
       "    </tr>\n",
       "    <tr>\n",
       "      <th>169</th>\n",
       "      <td>Carl Douglas</td>\n",
       "      <td>1</td>\n",
       "    </tr>\n",
       "    <tr>\n",
       "      <th>170</th>\n",
       "      <td>John Lennon</td>\n",
       "      <td>1</td>\n",
       "    </tr>\n",
       "    <tr>\n",
       "      <th>...</th>\n",
       "      <td>...</td>\n",
       "      <td>...</td>\n",
       "    </tr>\n",
       "    <tr>\n",
       "      <th>743</th>\n",
       "      <td>Stevie B</td>\n",
       "      <td>1</td>\n",
       "    </tr>\n",
       "    <tr>\n",
       "      <th>744</th>\n",
       "      <td>Vanilla Ice</td>\n",
       "      <td>1</td>\n",
       "    </tr>\n",
       "    <tr>\n",
       "      <th>745</th>\n",
       "      <td>James Ingram</td>\n",
       "      <td>1</td>\n",
       "    </tr>\n",
       "    <tr>\n",
       "      <th>746</th>\n",
       "      <td>Maxi Priest</td>\n",
       "      <td>1</td>\n",
       "    </tr>\n",
       "    <tr>\n",
       "      <th>747</th>\n",
       "      <td>Domenico Modugno</td>\n",
       "      <td>1</td>\n",
       "    </tr>\n",
       "  </tbody>\n",
       "</table>\n",
       "<p>582 rows × 2 columns</p>\n",
       "</div>"
      ],
      "text/plain": [
       "                            artist  count\n",
       "166                           Styx      1\n",
       "167                   Harry Chapin      1\n",
       "168  Barbra Streisand/Donna Summer      1\n",
       "169                   Carl Douglas      1\n",
       "170                    John Lennon      1\n",
       "..                             ...    ...\n",
       "743                       Stevie B      1\n",
       "744                    Vanilla Ice      1\n",
       "745                   James Ingram      1\n",
       "746                    Maxi Priest      1\n",
       "747               Domenico Modugno      1\n",
       "\n",
       "[582 rows x 2 columns]"
      ]
     },
     "execution_count": 16,
     "metadata": {},
     "output_type": "execute_result"
    }
   ],
   "source": [
    "hit_count.loc[(hit_count['count'] == 1)]"
   ]
  },
  {
   "cell_type": "code",
   "execution_count": 18,
   "id": "b06a86cd",
   "metadata": {},
   "outputs": [],
   "source": [
    "hit_songs = pd.merge(hit_songs, hit_count, on='artist', how='inner')"
   ]
  },
  {
   "cell_type": "code",
   "execution_count": 22,
   "id": "426e6b59",
   "metadata": {},
   "outputs": [],
   "source": [
    "hits_40 = hit_songs.loc[(hit_songs['count'] == 1) & (hit_songs['date'] >= 1980)&(hit_songs['date'] <= 2019)]"
   ]
  },
  {
   "cell_type": "code",
   "execution_count": 31,
   "id": "c816a7f5",
   "metadata": {},
   "outputs": [],
   "source": [
    "one_hit_wonders = hits_40[~hits_40['artist'].str.contains('/|&|Featuring|ft')].reset_index()"
   ]
  },
  {
   "cell_type": "code",
   "execution_count": null,
   "id": "da4daf77",
   "metadata": {},
   "outputs": [],
   "source": []
  }
 ],
 "metadata": {
  "kernelspec": {
   "display_name": "Python 3 (ipykernel)",
   "language": "python",
   "name": "python3"
  },
  "language_info": {
   "codemirror_mode": {
    "name": "ipython",
    "version": 3
   },
   "file_extension": ".py",
   "mimetype": "text/x-python",
   "name": "python",
   "nbconvert_exporter": "python",
   "pygments_lexer": "ipython3",
   "version": "3.11.5"
  }
 },
 "nbformat": 4,
 "nbformat_minor": 5
}
