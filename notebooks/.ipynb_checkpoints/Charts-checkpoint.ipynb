{
 "cells": [
  {
   "cell_type": "code",
   "execution_count": 15,
   "id": "a0bac371",
   "metadata": {},
   "outputs": [],
   "source": [
    "import pandas as pd\n",
    "from datetime import datetime"
   ]
  },
  {
   "cell_type": "code",
   "execution_count": 16,
   "id": "bc28576a",
   "metadata": {},
   "outputs": [],
   "source": [
    "charts = pd.read_csv('../data/charts.csv')"
   ]
  },
  {
   "cell_type": "code",
   "execution_count": 3,
   "id": "150b66e8",
   "metadata": {},
   "outputs": [],
   "source": [
    "charts = charts.drop_duplicates(subset=['song','artist'])"
   ]
  },
  {
   "cell_type": "code",
   "execution_count": 4,
   "id": "32a77952",
   "metadata": {},
   "outputs": [],
   "source": [
    "charts['date'] = charts.date.str[:4].astype(int)"
   ]
  },
  {
   "cell_type": "code",
   "execution_count": 5,
   "id": "12d19ddb",
   "metadata": {},
   "outputs": [
    {
     "data": {
      "text/html": [
       "<div>\n",
       "<style scoped>\n",
       "    .dataframe tbody tr th:only-of-type {\n",
       "        vertical-align: middle;\n",
       "    }\n",
       "\n",
       "    .dataframe tbody tr th {\n",
       "        vertical-align: top;\n",
       "    }\n",
       "\n",
       "    .dataframe thead th {\n",
       "        text-align: right;\n",
       "    }\n",
       "</style>\n",
       "<table border=\"1\" class=\"dataframe\">\n",
       "  <thead>\n",
       "    <tr style=\"text-align: right;\">\n",
       "      <th></th>\n",
       "      <th>date</th>\n",
       "      <th>rank</th>\n",
       "      <th>song</th>\n",
       "      <th>artist</th>\n",
       "      <th>last-week</th>\n",
       "      <th>peak-rank</th>\n",
       "      <th>weeks-on-board</th>\n",
       "    </tr>\n",
       "  </thead>\n",
       "  <tbody>\n",
       "    <tr>\n",
       "      <th>0</th>\n",
       "      <td>2021</td>\n",
       "      <td>1</td>\n",
       "      <td>Easy On Me</td>\n",
       "      <td>Adele</td>\n",
       "      <td>1.0</td>\n",
       "      <td>1</td>\n",
       "      <td>3</td>\n",
       "    </tr>\n",
       "  </tbody>\n",
       "</table>\n",
       "</div>"
      ],
      "text/plain": [
       "   date  rank        song artist  last-week  peak-rank  weeks-on-board\n",
       "0  2021     1  Easy On Me  Adele        1.0          1               3"
      ]
     },
     "execution_count": 5,
     "metadata": {},
     "output_type": "execute_result"
    }
   ],
   "source": [
    "charts.head(1)"
   ]
  },
  {
   "cell_type": "code",
   "execution_count": 6,
   "id": "508e2e0f",
   "metadata": {},
   "outputs": [
    {
     "data": {
      "text/plain": [
       "date                int32\n",
       "rank                int64\n",
       "song               object\n",
       "artist             object\n",
       "last-week         float64\n",
       "peak-rank           int64\n",
       "weeks-on-board      int64\n",
       "dtype: object"
      ]
     },
     "execution_count": 6,
     "metadata": {},
     "output_type": "execute_result"
    }
   ],
   "source": [
    "charts.dtypes"
   ]
  },
  {
   "cell_type": "code",
   "execution_count": 7,
   "id": "9ced6d30",
   "metadata": {},
   "outputs": [],
   "source": [
    "hit_songs = charts.loc[(charts['peak-rank'] == 1)]"
   ]
  },
  {
   "cell_type": "code",
   "execution_count": 8,
   "id": "24ba6ca1",
   "metadata": {},
   "outputs": [],
   "source": [
    "hit_count = hit_songs.artist.value_counts().to_frame().reset_index()"
   ]
  },
  {
   "cell_type": "code",
   "execution_count": 9,
   "id": "755bcc01",
   "metadata": {},
   "outputs": [
    {
     "data": {
      "text/plain": [
       "artist    object\n",
       "count      int64\n",
       "dtype: object"
      ]
     },
     "execution_count": 9,
     "metadata": {},
     "output_type": "execute_result"
    }
   ],
   "source": [
    "hit_count.dtypes"
   ]
  },
  {
   "cell_type": "code",
   "execution_count": 10,
   "id": "06a2cce9",
   "metadata": {},
   "outputs": [
    {
     "data": {
      "text/html": [
       "<div>\n",
       "<style scoped>\n",
       "    .dataframe tbody tr th:only-of-type {\n",
       "        vertical-align: middle;\n",
       "    }\n",
       "\n",
       "    .dataframe tbody tr th {\n",
       "        vertical-align: top;\n",
       "    }\n",
       "\n",
       "    .dataframe thead th {\n",
       "        text-align: right;\n",
       "    }\n",
       "</style>\n",
       "<table border=\"1\" class=\"dataframe\">\n",
       "  <thead>\n",
       "    <tr style=\"text-align: right;\">\n",
       "      <th></th>\n",
       "      <th>artist</th>\n",
       "      <th>count</th>\n",
       "    </tr>\n",
       "  </thead>\n",
       "  <tbody>\n",
       "    <tr>\n",
       "      <th>166</th>\n",
       "      <td>Styx</td>\n",
       "      <td>1</td>\n",
       "    </tr>\n",
       "    <tr>\n",
       "      <th>167</th>\n",
       "      <td>Harry Chapin</td>\n",
       "      <td>1</td>\n",
       "    </tr>\n",
       "    <tr>\n",
       "      <th>168</th>\n",
       "      <td>Barbra Streisand/Donna Summer</td>\n",
       "      <td>1</td>\n",
       "    </tr>\n",
       "    <tr>\n",
       "      <th>169</th>\n",
       "      <td>Carl Douglas</td>\n",
       "      <td>1</td>\n",
       "    </tr>\n",
       "    <tr>\n",
       "      <th>170</th>\n",
       "      <td>John Lennon</td>\n",
       "      <td>1</td>\n",
       "    </tr>\n",
       "    <tr>\n",
       "      <th>...</th>\n",
       "      <td>...</td>\n",
       "      <td>...</td>\n",
       "    </tr>\n",
       "    <tr>\n",
       "      <th>743</th>\n",
       "      <td>Stevie B</td>\n",
       "      <td>1</td>\n",
       "    </tr>\n",
       "    <tr>\n",
       "      <th>744</th>\n",
       "      <td>Vanilla Ice</td>\n",
       "      <td>1</td>\n",
       "    </tr>\n",
       "    <tr>\n",
       "      <th>745</th>\n",
       "      <td>James Ingram</td>\n",
       "      <td>1</td>\n",
       "    </tr>\n",
       "    <tr>\n",
       "      <th>746</th>\n",
       "      <td>Maxi Priest</td>\n",
       "      <td>1</td>\n",
       "    </tr>\n",
       "    <tr>\n",
       "      <th>747</th>\n",
       "      <td>Domenico Modugno</td>\n",
       "      <td>1</td>\n",
       "    </tr>\n",
       "  </tbody>\n",
       "</table>\n",
       "<p>582 rows × 2 columns</p>\n",
       "</div>"
      ],
      "text/plain": [
       "                            artist  count\n",
       "166                           Styx      1\n",
       "167                   Harry Chapin      1\n",
       "168  Barbra Streisand/Donna Summer      1\n",
       "169                   Carl Douglas      1\n",
       "170                    John Lennon      1\n",
       "..                             ...    ...\n",
       "743                       Stevie B      1\n",
       "744                    Vanilla Ice      1\n",
       "745                   James Ingram      1\n",
       "746                    Maxi Priest      1\n",
       "747               Domenico Modugno      1\n",
       "\n",
       "[582 rows x 2 columns]"
      ]
     },
     "execution_count": 10,
     "metadata": {},
     "output_type": "execute_result"
    }
   ],
   "source": [
    "hit_count.loc[(hit_count['count'] == 1)]"
   ]
  },
  {
   "cell_type": "code",
   "execution_count": 11,
   "id": "a3219802",
   "metadata": {},
   "outputs": [],
   "source": [
    "hit_songs = pd.merge(hit_songs, hit_count, on='artist', how='inner')"
   ]
  },
  {
   "cell_type": "code",
   "execution_count": 12,
   "id": "7b8b829d",
   "metadata": {},
   "outputs": [],
   "source": [
    "hits_40 = hit_songs.loc[(hit_songs['count'] == 1) & (hit_songs['date'] >= 1980)&(hit_songs['date'] <= 2019)]"
   ]
  },
  {
   "cell_type": "code",
   "execution_count": 13,
   "id": "673c1f27",
   "metadata": {},
   "outputs": [],
   "source": [
    "one_hit_wonders = hits_40[~hits_40['artist'].str.contains('/|&|Featuring|ft')].reset_index()"
   ]
  },
  {
   "cell_type": "code",
   "execution_count": 14,
   "id": "28961ab9",
   "metadata": {},
   "outputs": [
    {
     "data": {
      "text/html": [
       "<div>\n",
       "<style scoped>\n",
       "    .dataframe tbody tr th:only-of-type {\n",
       "        vertical-align: middle;\n",
       "    }\n",
       "\n",
       "    .dataframe tbody tr th {\n",
       "        vertical-align: top;\n",
       "    }\n",
       "\n",
       "    .dataframe thead th {\n",
       "        text-align: right;\n",
       "    }\n",
       "</style>\n",
       "<table border=\"1\" class=\"dataframe\">\n",
       "  <thead>\n",
       "    <tr style=\"text-align: right;\">\n",
       "      <th></th>\n",
       "      <th>index</th>\n",
       "      <th>date</th>\n",
       "      <th>rank</th>\n",
       "      <th>song</th>\n",
       "      <th>artist</th>\n",
       "      <th>last-week</th>\n",
       "      <th>peak-rank</th>\n",
       "      <th>weeks-on-board</th>\n",
       "      <th>count</th>\n",
       "    </tr>\n",
       "  </thead>\n",
       "  <tbody>\n",
       "    <tr>\n",
       "      <th>0</th>\n",
       "      <td>81</td>\n",
       "      <td>2019</td>\n",
       "      <td>33</td>\n",
       "      <td>Without Me</td>\n",
       "      <td>Halsey</td>\n",
       "      <td>34.0</td>\n",
       "      <td>1</td>\n",
       "      <td>52</td>\n",
       "      <td>1</td>\n",
       "    </tr>\n",
       "    <tr>\n",
       "      <th>1</th>\n",
       "      <td>86</td>\n",
       "      <td>2018</td>\n",
       "      <td>46</td>\n",
       "      <td>Sad!</td>\n",
       "      <td>XXXTENTACION</td>\n",
       "      <td>45.0</td>\n",
       "      <td>1</td>\n",
       "      <td>38</td>\n",
       "      <td>1</td>\n",
       "    </tr>\n",
       "    <tr>\n",
       "      <th>2</th>\n",
       "      <td>89</td>\n",
       "      <td>2018</td>\n",
       "      <td>100</td>\n",
       "      <td>This Is America</td>\n",
       "      <td>Childish Gambino</td>\n",
       "      <td>95.0</td>\n",
       "      <td>1</td>\n",
       "      <td>17</td>\n",
       "      <td>1</td>\n",
       "    </tr>\n",
       "    <tr>\n",
       "      <th>3</th>\n",
       "      <td>98</td>\n",
       "      <td>2017</td>\n",
       "      <td>47</td>\n",
       "      <td>Humble.</td>\n",
       "      <td>Kendrick Lamar</td>\n",
       "      <td>50.0</td>\n",
       "      <td>1</td>\n",
       "      <td>37</td>\n",
       "      <td>1</td>\n",
       "    </tr>\n",
       "    <tr>\n",
       "      <th>4</th>\n",
       "      <td>115</td>\n",
       "      <td>2016</td>\n",
       "      <td>44</td>\n",
       "      <td>Panda</td>\n",
       "      <td>Desiigner</td>\n",
       "      <td>42.0</td>\n",
       "      <td>1</td>\n",
       "      <td>40</td>\n",
       "      <td>1</td>\n",
       "    </tr>\n",
       "    <tr>\n",
       "      <th>...</th>\n",
       "      <td>...</td>\n",
       "      <td>...</td>\n",
       "      <td>...</td>\n",
       "      <td>...</td>\n",
       "      <td>...</td>\n",
       "      <td>...</td>\n",
       "      <td>...</td>\n",
       "      <td>...</td>\n",
       "      <td>...</td>\n",
       "    </tr>\n",
       "    <tr>\n",
       "      <th>193</th>\n",
       "      <td>686</td>\n",
       "      <td>1980</td>\n",
       "      <td>99</td>\n",
       "      <td>Funkytown</td>\n",
       "      <td>Lipps, Inc.</td>\n",
       "      <td>95.0</td>\n",
       "      <td>1</td>\n",
       "      <td>23</td>\n",
       "      <td>1</td>\n",
       "    </tr>\n",
       "    <tr>\n",
       "      <th>194</th>\n",
       "      <td>687</td>\n",
       "      <td>1980</td>\n",
       "      <td>94</td>\n",
       "      <td>Another Brick In The Wall (Part II)</td>\n",
       "      <td>Pink Floyd</td>\n",
       "      <td>94.0</td>\n",
       "      <td>1</td>\n",
       "      <td>25</td>\n",
       "      <td>1</td>\n",
       "    </tr>\n",
       "    <tr>\n",
       "      <th>195</th>\n",
       "      <td>689</td>\n",
       "      <td>1980</td>\n",
       "      <td>93</td>\n",
       "      <td>Escape (The Pina Colada Song)</td>\n",
       "      <td>Rupert Holmes</td>\n",
       "      <td>69.0</td>\n",
       "      <td>1</td>\n",
       "      <td>21</td>\n",
       "      <td>1</td>\n",
       "    </tr>\n",
       "    <tr>\n",
       "      <th>196</th>\n",
       "      <td>697</td>\n",
       "      <td>1980</td>\n",
       "      <td>96</td>\n",
       "      <td>Babe</td>\n",
       "      <td>Styx</td>\n",
       "      <td>79.0</td>\n",
       "      <td>1</td>\n",
       "      <td>19</td>\n",
       "      <td>1</td>\n",
       "    </tr>\n",
       "    <tr>\n",
       "      <th>197</th>\n",
       "      <td>699</td>\n",
       "      <td>1980</td>\n",
       "      <td>100</td>\n",
       "      <td>Pop Muzik</td>\n",
       "      <td>M</td>\n",
       "      <td>59.0</td>\n",
       "      <td>1</td>\n",
       "      <td>24</td>\n",
       "      <td>1</td>\n",
       "    </tr>\n",
       "  </tbody>\n",
       "</table>\n",
       "<p>198 rows × 9 columns</p>\n",
       "</div>"
      ],
      "text/plain": [
       "     index  date  rank                                 song            artist  \\\n",
       "0       81  2019    33                           Without Me            Halsey   \n",
       "1       86  2018    46                                 Sad!      XXXTENTACION   \n",
       "2       89  2018   100                      This Is America  Childish Gambino   \n",
       "3       98  2017    47                              Humble.    Kendrick Lamar   \n",
       "4      115  2016    44                                Panda         Desiigner   \n",
       "..     ...   ...   ...                                  ...               ...   \n",
       "193    686  1980    99                            Funkytown       Lipps, Inc.   \n",
       "194    687  1980    94  Another Brick In The Wall (Part II)        Pink Floyd   \n",
       "195    689  1980    93        Escape (The Pina Colada Song)     Rupert Holmes   \n",
       "196    697  1980    96                                 Babe              Styx   \n",
       "197    699  1980   100                            Pop Muzik                 M   \n",
       "\n",
       "     last-week  peak-rank  weeks-on-board  count  \n",
       "0         34.0          1              52      1  \n",
       "1         45.0          1              38      1  \n",
       "2         95.0          1              17      1  \n",
       "3         50.0          1              37      1  \n",
       "4         42.0          1              40      1  \n",
       "..         ...        ...             ...    ...  \n",
       "193       95.0          1              23      1  \n",
       "194       94.0          1              25      1  \n",
       "195       69.0          1              21      1  \n",
       "196       79.0          1              19      1  \n",
       "197       59.0          1              24      1  \n",
       "\n",
       "[198 rows x 9 columns]"
      ]
     },
     "execution_count": 14,
     "metadata": {},
     "output_type": "execute_result"
    }
   ],
   "source": [
    "one_hit_wonders"
   ]
  },
  {
   "cell_type": "code",
   "execution_count": 18,
   "id": "2d027674",
   "metadata": {},
   "outputs": [],
   "source": [
    "one_hit_wonders.rename(columns={'date': 'release_year'}, inplace=True)"
   ]
  },
  {
   "cell_type": "code",
   "execution_count": 20,
   "id": "afdd4ffd",
   "metadata": {},
   "outputs": [],
   "source": [
    "one_hit_wonders.to_csv('../data/one_hit_charts.csv')"
   ]
  }
 ],
 "metadata": {
  "kernelspec": {
   "display_name": "Python 3 (ipykernel)",
   "language": "python",
   "name": "python3"
  },
  "language_info": {
   "codemirror_mode": {
    "name": "ipython",
    "version": 3
   },
   "file_extension": ".py",
   "mimetype": "text/x-python",
   "name": "python",
   "nbconvert_exporter": "python",
   "pygments_lexer": "ipython3",
   "version": "3.11.5"
  }
 },
 "nbformat": 4,
 "nbformat_minor": 5
}
