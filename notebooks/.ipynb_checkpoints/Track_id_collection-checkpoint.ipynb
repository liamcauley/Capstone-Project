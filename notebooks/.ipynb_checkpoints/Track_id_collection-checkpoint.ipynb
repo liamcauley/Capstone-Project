{
 "cells": [
  {
   "cell_type": "code",
   "execution_count": 2,
   "id": "144ec453",
   "metadata": {},
   "outputs": [],
   "source": [
    "import sys\n",
    "import os\n",
    "sys.path.append('..')"
   ]
  },
  {
   "cell_type": "code",
   "execution_count": 18,
   "id": "75631710",
   "metadata": {},
   "outputs": [],
   "source": [
    "import pandas as pd\n",
    "import spotAPIfix as spot"
   ]
  },
  {
   "cell_type": "code",
   "execution_count": 19,
   "id": "88a8208d",
   "metadata": {},
   "outputs": [],
   "source": [
    "one_hit_charts = pd.read_csv('../data/one_hit_charts.csv')"
   ]
  },
  {
   "cell_type": "code",
   "execution_count": 20,
   "id": "1b80a1cb",
   "metadata": {},
   "outputs": [
    {
     "name": "stdout",
     "output_type": "stream",
     "text": [
      "Funkytown\n",
      "https://api.spotify.com/v1/search?q=track:Funkytown&type=track&limit=2\n"
     ]
    },
    {
     "ename": "NameError",
     "evalue": "name 'secret_key' is not defined",
     "output_type": "error",
     "traceback": [
      "\u001b[1;31m---------------------------------------------------------------------------\u001b[0m",
      "\u001b[1;31mNameError\u001b[0m                                 Traceback (most recent call last)",
      "Cell \u001b[1;32mIn[20], line 1\u001b[0m\n\u001b[1;32m----> 1\u001b[0m song_response \u001b[38;5;241m=\u001b[39m spot\u001b[38;5;241m.\u001b[39msearch(search_term \u001b[38;5;241m=\u001b[39m \u001b[38;5;124m'\u001b[39m\u001b[38;5;124mFunkytown\u001b[39m\u001b[38;5;124m'\u001b[39m, music_type\u001b[38;5;241m=\u001b[39m\u001b[38;5;124m'\u001b[39m\u001b[38;5;124mtrack\u001b[39m\u001b[38;5;124m'\u001b[39m, limit \u001b[38;5;241m=\u001b[39m \u001b[38;5;241m2\u001b[39m)\n",
      "File \u001b[1;32m~\\NSS 2.0\\Python\\capstone\\spotify_capstone\\notebooks\\spotAPIfix.py:105\u001b[0m, in \u001b[0;36msearch\u001b[1;34m(search_term, music_type, limit)\u001b[0m\n\u001b[0;32m    102\u001b[0m url \u001b[38;5;241m=\u001b[39m \u001b[38;5;124mf\u001b[39m\u001b[38;5;124m\"\u001b[39m\u001b[38;5;124mhttps://api.spotify.com/v1/search?q=\u001b[39m\u001b[38;5;132;01m{\u001b[39;00mmusic_type\u001b[38;5;132;01m}\u001b[39;00m\u001b[38;5;124m:\u001b[39m\u001b[38;5;132;01m{\u001b[39;00msearch_term\u001b[38;5;132;01m}\u001b[39;00m\u001b[38;5;124m&type=\u001b[39m\u001b[38;5;132;01m{\u001b[39;00mmusic_type\u001b[38;5;132;01m}\u001b[39;00m\u001b[38;5;124m&limit=\u001b[39m\u001b[38;5;132;01m{\u001b[39;00mlimit\u001b[38;5;132;01m}\u001b[39;00m\u001b[38;5;124m\"\u001b[39m\n\u001b[0;32m    103\u001b[0m \u001b[38;5;28mprint\u001b[39m(url)\n\u001b[1;32m--> 105\u001b[0m access_token \u001b[38;5;241m=\u001b[39m get_token()\u001b[38;5;241m.\u001b[39mget(\u001b[38;5;124m'\u001b[39m\u001b[38;5;124maccess_token\u001b[39m\u001b[38;5;124m'\u001b[39m)\n\u001b[0;32m    107\u001b[0m headers \u001b[38;5;241m=\u001b[39m {\n\u001b[0;32m    108\u001b[0m     \u001b[38;5;124m\"\u001b[39m\u001b[38;5;124mContent-Type\u001b[39m\u001b[38;5;124m\"\u001b[39m : \u001b[38;5;124m\"\u001b[39m\u001b[38;5;124mapplication/json\u001b[39m\u001b[38;5;124m\"\u001b[39m,\n\u001b[0;32m    109\u001b[0m     \u001b[38;5;124m\"\u001b[39m\u001b[38;5;124mAuthorization\u001b[39m\u001b[38;5;124m\"\u001b[39m : \u001b[38;5;124mf\u001b[39m\u001b[38;5;124m\"\u001b[39m\u001b[38;5;124mBearer \u001b[39m\u001b[38;5;132;01m{\u001b[39;00maccess_token\u001b[38;5;132;01m}\u001b[39;00m\u001b[38;5;124m\"\u001b[39m\n\u001b[0;32m    110\u001b[0m }\n\u001b[0;32m    112\u001b[0m response \u001b[38;5;241m=\u001b[39m requests\u001b[38;5;241m.\u001b[39mget(url, headers\u001b[38;5;241m=\u001b[39mheaders)\n",
      "File \u001b[1;32m~\\NSS 2.0\\Python\\capstone\\spotify_capstone\\notebooks\\spotAPIfix.py:24\u001b[0m, in \u001b[0;36mget_token\u001b[1;34m()\u001b[0m\n\u001b[0;32m     21\u001b[0m \u001b[38;5;28;01mdef\u001b[39;00m \u001b[38;5;21mget_token\u001b[39m():\n\u001b[0;32m     22\u001b[0m     url \u001b[38;5;241m=\u001b[39m \u001b[38;5;124m\"\u001b[39m\u001b[38;5;124mhttps://accounts.spotify.com/api/token\u001b[39m\u001b[38;5;124m\"\u001b[39m\n\u001b[0;32m     23\u001b[0m     headers \u001b[38;5;241m=\u001b[39m {\n\u001b[1;32m---> 24\u001b[0m         \u001b[38;5;124m\"\u001b[39m\u001b[38;5;124mAuthorization\u001b[39m\u001b[38;5;124m\"\u001b[39m: \u001b[38;5;124mf\u001b[39m\u001b[38;5;124m\"\u001b[39m\u001b[38;5;124mBasic \u001b[39m\u001b[38;5;132;01m{\u001b[39;00msecret_key\u001b[38;5;132;01m}\u001b[39;00m\u001b[38;5;124m\"\u001b[39m,\n\u001b[0;32m     25\u001b[0m         \u001b[38;5;124m\"\u001b[39m\u001b[38;5;124mContent-Type\u001b[39m\u001b[38;5;124m\"\u001b[39m : \u001b[38;5;124m\"\u001b[39m\u001b[38;5;124mapplication/x-www-form-urlencoded\u001b[39m\u001b[38;5;124m\"\u001b[39m\n\u001b[0;32m     26\u001b[0m     }\n\u001b[0;32m     27\u001b[0m     data \u001b[38;5;241m=\u001b[39m {\n\u001b[0;32m     28\u001b[0m         \u001b[38;5;124m\"\u001b[39m\u001b[38;5;124mgrant_type\u001b[39m\u001b[38;5;124m\"\u001b[39m : \u001b[38;5;124m\"\u001b[39m\u001b[38;5;124mclient_credentials\u001b[39m\u001b[38;5;124m\"\u001b[39m\n\u001b[0;32m     29\u001b[0m     }\n\u001b[0;32m     30\u001b[0m     response \u001b[38;5;241m=\u001b[39m requests\u001b[38;5;241m.\u001b[39mpost(url, data \u001b[38;5;241m=\u001b[39m data, headers \u001b[38;5;241m=\u001b[39m headers)\n",
      "\u001b[1;31mNameError\u001b[0m: name 'secret_key' is not defined"
     ]
    }
   ],
   "source": [
    "song_response = spot.search(search_term = 'Funkytown', music_type='track', limit = 2)"
   ]
  },
  {
   "cell_type": "code",
   "execution_count": null,
   "id": "3252e2ff",
   "metadata": {},
   "outputs": [],
   "source": []
  }
 ],
 "metadata": {
  "kernelspec": {
   "display_name": "Python 3 (ipykernel)",
   "language": "python",
   "name": "python3"
  },
  "language_info": {
   "codemirror_mode": {
    "name": "ipython",
    "version": 3
   },
   "file_extension": ".py",
   "mimetype": "text/x-python",
   "name": "python",
   "nbconvert_exporter": "python",
   "pygments_lexer": "ipython3",
   "version": "3.11.5"
  }
 },
 "nbformat": 4,
 "nbformat_minor": 5
}
